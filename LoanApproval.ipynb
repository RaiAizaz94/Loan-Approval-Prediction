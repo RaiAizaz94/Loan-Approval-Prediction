{
 "cells": [
  {
   "cell_type": "code",
   "execution_count": 1,
   "id": "0a53fe7d-caa0-437b-a09a-2ad2e8cb13e0",
   "metadata": {},
   "outputs": [],
   "source": [
    "import numpy as np \n",
    "from matplotlib import pyplot as plt\n",
    "import pandas as pd\n",
    "#matplotlib inline"
   ]
  },
  {
   "cell_type": "code",
   "execution_count": 2,
   "id": "3694e369-a906-4474-944d-693a5db1897c",
   "metadata": {},
   "outputs": [],
   "source": [
    "file_path = r'D:\\Data Science Projects\\Loa Approval\\loan_data.csv'\n",
    "file_name ='loan_data.csv'"
   ]
  },
  {
   "cell_type": "code",
   "execution_count": 3,
   "id": "515cf4a4-0f99-4f6c-b78e-c32736600e89",
   "metadata": {},
   "outputs": [
    {
     "data": {
      "text/html": [
       "<div>\n",
       "<style scoped>\n",
       "    .dataframe tbody tr th:only-of-type {\n",
       "        vertical-align: middle;\n",
       "    }\n",
       "\n",
       "    .dataframe tbody tr th {\n",
       "        vertical-align: top;\n",
       "    }\n",
       "\n",
       "    .dataframe thead th {\n",
       "        text-align: right;\n",
       "    }\n",
       "</style>\n",
       "<table border=\"1\" class=\"dataframe\">\n",
       "  <thead>\n",
       "    <tr style=\"text-align: right;\">\n",
       "      <th></th>\n",
       "      <th>person_age</th>\n",
       "      <th>person_gender</th>\n",
       "      <th>person_education</th>\n",
       "      <th>person_income</th>\n",
       "      <th>person_emp_exp</th>\n",
       "      <th>person_home_ownership</th>\n",
       "      <th>loan_amnt</th>\n",
       "      <th>loan_intent</th>\n",
       "      <th>loan_int_rate</th>\n",
       "      <th>loan_percent_income</th>\n",
       "      <th>cb_person_cred_hist_length</th>\n",
       "      <th>credit_score</th>\n",
       "      <th>previous_loan_defaults_on_file</th>\n",
       "      <th>loan_status</th>\n",
       "    </tr>\n",
       "  </thead>\n",
       "  <tbody>\n",
       "    <tr>\n",
       "      <th>0</th>\n",
       "      <td>22.0</td>\n",
       "      <td>female</td>\n",
       "      <td>Master</td>\n",
       "      <td>71948.0</td>\n",
       "      <td>0</td>\n",
       "      <td>RENT</td>\n",
       "      <td>35000.0</td>\n",
       "      <td>PERSONAL</td>\n",
       "      <td>16.02</td>\n",
       "      <td>0.49</td>\n",
       "      <td>3.0</td>\n",
       "      <td>561</td>\n",
       "      <td>No</td>\n",
       "      <td>1</td>\n",
       "    </tr>\n",
       "    <tr>\n",
       "      <th>1</th>\n",
       "      <td>21.0</td>\n",
       "      <td>female</td>\n",
       "      <td>High School</td>\n",
       "      <td>12282.0</td>\n",
       "      <td>0</td>\n",
       "      <td>OWN</td>\n",
       "      <td>1000.0</td>\n",
       "      <td>EDUCATION</td>\n",
       "      <td>11.14</td>\n",
       "      <td>0.08</td>\n",
       "      <td>2.0</td>\n",
       "      <td>504</td>\n",
       "      <td>Yes</td>\n",
       "      <td>0</td>\n",
       "    </tr>\n",
       "    <tr>\n",
       "      <th>2</th>\n",
       "      <td>25.0</td>\n",
       "      <td>female</td>\n",
       "      <td>High School</td>\n",
       "      <td>12438.0</td>\n",
       "      <td>3</td>\n",
       "      <td>MORTGAGE</td>\n",
       "      <td>5500.0</td>\n",
       "      <td>MEDICAL</td>\n",
       "      <td>12.87</td>\n",
       "      <td>0.44</td>\n",
       "      <td>3.0</td>\n",
       "      <td>635</td>\n",
       "      <td>No</td>\n",
       "      <td>1</td>\n",
       "    </tr>\n",
       "    <tr>\n",
       "      <th>3</th>\n",
       "      <td>23.0</td>\n",
       "      <td>female</td>\n",
       "      <td>Bachelor</td>\n",
       "      <td>79753.0</td>\n",
       "      <td>0</td>\n",
       "      <td>RENT</td>\n",
       "      <td>35000.0</td>\n",
       "      <td>MEDICAL</td>\n",
       "      <td>15.23</td>\n",
       "      <td>0.44</td>\n",
       "      <td>2.0</td>\n",
       "      <td>675</td>\n",
       "      <td>No</td>\n",
       "      <td>1</td>\n",
       "    </tr>\n",
       "    <tr>\n",
       "      <th>4</th>\n",
       "      <td>24.0</td>\n",
       "      <td>male</td>\n",
       "      <td>Master</td>\n",
       "      <td>66135.0</td>\n",
       "      <td>1</td>\n",
       "      <td>RENT</td>\n",
       "      <td>35000.0</td>\n",
       "      <td>MEDICAL</td>\n",
       "      <td>14.27</td>\n",
       "      <td>0.53</td>\n",
       "      <td>4.0</td>\n",
       "      <td>586</td>\n",
       "      <td>No</td>\n",
       "      <td>1</td>\n",
       "    </tr>\n",
       "  </tbody>\n",
       "</table>\n",
       "</div>"
      ],
      "text/plain": [
       "   person_age person_gender person_education  person_income  person_emp_exp  \\\n",
       "0        22.0        female           Master        71948.0               0   \n",
       "1        21.0        female      High School        12282.0               0   \n",
       "2        25.0        female      High School        12438.0               3   \n",
       "3        23.0        female         Bachelor        79753.0               0   \n",
       "4        24.0          male           Master        66135.0               1   \n",
       "\n",
       "  person_home_ownership  loan_amnt loan_intent  loan_int_rate  \\\n",
       "0                  RENT    35000.0    PERSONAL          16.02   \n",
       "1                   OWN     1000.0   EDUCATION          11.14   \n",
       "2              MORTGAGE     5500.0     MEDICAL          12.87   \n",
       "3                  RENT    35000.0     MEDICAL          15.23   \n",
       "4                  RENT    35000.0     MEDICAL          14.27   \n",
       "\n",
       "   loan_percent_income  cb_person_cred_hist_length  credit_score  \\\n",
       "0                 0.49                         3.0           561   \n",
       "1                 0.08                         2.0           504   \n",
       "2                 0.44                         3.0           635   \n",
       "3                 0.44                         2.0           675   \n",
       "4                 0.53                         4.0           586   \n",
       "\n",
       "  previous_loan_defaults_on_file  loan_status  \n",
       "0                             No            1  \n",
       "1                            Yes            0  \n",
       "2                             No            1  \n",
       "3                             No            1  \n",
       "4                             No            1  "
      ]
     },
     "execution_count": 3,
     "metadata": {},
     "output_type": "execute_result"
    }
   ],
   "source": [
    "df = pd.read_csv(file_path)\n",
    "df.head()"
   ]
  },
  {
   "cell_type": "code",
   "execution_count": 4,
   "id": "64bfbd0a-9720-43df-94b3-4cdeaefddfcd",
   "metadata": {},
   "outputs": [
    {
     "data": {
      "text/plain": [
       "person_age                        float64\n",
       "person_gender                      object\n",
       "person_education                   object\n",
       "person_income                     float64\n",
       "person_emp_exp                      int64\n",
       "person_home_ownership              object\n",
       "loan_amnt                         float64\n",
       "loan_intent                        object\n",
       "loan_int_rate                     float64\n",
       "loan_percent_income               float64\n",
       "cb_person_cred_hist_length        float64\n",
       "credit_score                        int64\n",
       "previous_loan_defaults_on_file     object\n",
       "loan_status                         int64\n",
       "dtype: object"
      ]
     },
     "execution_count": 4,
     "metadata": {},
     "output_type": "execute_result"
    }
   ],
   "source": [
    "df.dtypes"
   ]
  },
  {
   "cell_type": "code",
   "execution_count": 5,
   "id": "7ae6dbaf-8a3b-416a-9eb2-7155d80cf02f",
   "metadata": {},
   "outputs": [
    {
     "data": {
      "text/plain": [
       "person_age                        0\n",
       "person_gender                     0\n",
       "person_education                  0\n",
       "person_income                     0\n",
       "person_emp_exp                    0\n",
       "person_home_ownership             0\n",
       "loan_amnt                         0\n",
       "loan_intent                       0\n",
       "loan_int_rate                     0\n",
       "loan_percent_income               0\n",
       "cb_person_cred_hist_length        0\n",
       "credit_score                      0\n",
       "previous_loan_defaults_on_file    0\n",
       "loan_status                       0\n",
       "dtype: int64"
      ]
     },
     "execution_count": 5,
     "metadata": {},
     "output_type": "execute_result"
    }
   ],
   "source": [
    "#Handling missing values\n",
    "#1- check how many columns have missing values\n",
    "df.isnull().sum()"
   ]
  },
  {
   "cell_type": "code",
   "execution_count": 6,
   "id": "7f58d11e-5fdf-4537-a8c0-c5f6909fc4ae",
   "metadata": {},
   "outputs": [
    {
     "data": {
      "text/html": [
       "<div>\n",
       "<style scoped>\n",
       "    .dataframe tbody tr th:only-of-type {\n",
       "        vertical-align: middle;\n",
       "    }\n",
       "\n",
       "    .dataframe tbody tr th {\n",
       "        vertical-align: top;\n",
       "    }\n",
       "\n",
       "    .dataframe thead th {\n",
       "        text-align: right;\n",
       "    }\n",
       "</style>\n",
       "<table border=\"1\" class=\"dataframe\">\n",
       "  <thead>\n",
       "    <tr style=\"text-align: right;\">\n",
       "      <th></th>\n",
       "      <th>person_age</th>\n",
       "      <th>person_gender</th>\n",
       "      <th>person_income</th>\n",
       "      <th>person_home_ownership</th>\n",
       "      <th>loan_amnt</th>\n",
       "      <th>loan_intent</th>\n",
       "      <th>loan_int_rate</th>\n",
       "      <th>loan_percent_income</th>\n",
       "      <th>cb_person_cred_hist_length</th>\n",
       "      <th>credit_score</th>\n",
       "      <th>previous_loan_defaults_on_file</th>\n",
       "      <th>loan_status</th>\n",
       "    </tr>\n",
       "  </thead>\n",
       "  <tbody>\n",
       "    <tr>\n",
       "      <th>0</th>\n",
       "      <td>22.0</td>\n",
       "      <td>female</td>\n",
       "      <td>71948.0</td>\n",
       "      <td>RENT</td>\n",
       "      <td>35000.0</td>\n",
       "      <td>PERSONAL</td>\n",
       "      <td>16.02</td>\n",
       "      <td>0.49</td>\n",
       "      <td>3.0</td>\n",
       "      <td>561</td>\n",
       "      <td>No</td>\n",
       "      <td>1</td>\n",
       "    </tr>\n",
       "    <tr>\n",
       "      <th>1</th>\n",
       "      <td>21.0</td>\n",
       "      <td>female</td>\n",
       "      <td>12282.0</td>\n",
       "      <td>OWN</td>\n",
       "      <td>1000.0</td>\n",
       "      <td>EDUCATION</td>\n",
       "      <td>11.14</td>\n",
       "      <td>0.08</td>\n",
       "      <td>2.0</td>\n",
       "      <td>504</td>\n",
       "      <td>Yes</td>\n",
       "      <td>0</td>\n",
       "    </tr>\n",
       "    <tr>\n",
       "      <th>2</th>\n",
       "      <td>25.0</td>\n",
       "      <td>female</td>\n",
       "      <td>12438.0</td>\n",
       "      <td>MORTGAGE</td>\n",
       "      <td>5500.0</td>\n",
       "      <td>MEDICAL</td>\n",
       "      <td>12.87</td>\n",
       "      <td>0.44</td>\n",
       "      <td>3.0</td>\n",
       "      <td>635</td>\n",
       "      <td>No</td>\n",
       "      <td>1</td>\n",
       "    </tr>\n",
       "    <tr>\n",
       "      <th>3</th>\n",
       "      <td>23.0</td>\n",
       "      <td>female</td>\n",
       "      <td>79753.0</td>\n",
       "      <td>RENT</td>\n",
       "      <td>35000.0</td>\n",
       "      <td>MEDICAL</td>\n",
       "      <td>15.23</td>\n",
       "      <td>0.44</td>\n",
       "      <td>2.0</td>\n",
       "      <td>675</td>\n",
       "      <td>No</td>\n",
       "      <td>1</td>\n",
       "    </tr>\n",
       "    <tr>\n",
       "      <th>4</th>\n",
       "      <td>24.0</td>\n",
       "      <td>male</td>\n",
       "      <td>66135.0</td>\n",
       "      <td>RENT</td>\n",
       "      <td>35000.0</td>\n",
       "      <td>MEDICAL</td>\n",
       "      <td>14.27</td>\n",
       "      <td>0.53</td>\n",
       "      <td>4.0</td>\n",
       "      <td>586</td>\n",
       "      <td>No</td>\n",
       "      <td>1</td>\n",
       "    </tr>\n",
       "  </tbody>\n",
       "</table>\n",
       "</div>"
      ],
      "text/plain": [
       "   person_age person_gender  person_income person_home_ownership  loan_amnt  \\\n",
       "0        22.0        female        71948.0                  RENT    35000.0   \n",
       "1        21.0        female        12282.0                   OWN     1000.0   \n",
       "2        25.0        female        12438.0              MORTGAGE     5500.0   \n",
       "3        23.0        female        79753.0                  RENT    35000.0   \n",
       "4        24.0          male        66135.0                  RENT    35000.0   \n",
       "\n",
       "  loan_intent  loan_int_rate  loan_percent_income  cb_person_cred_hist_length  \\\n",
       "0    PERSONAL          16.02                 0.49                         3.0   \n",
       "1   EDUCATION          11.14                 0.08                         2.0   \n",
       "2     MEDICAL          12.87                 0.44                         3.0   \n",
       "3     MEDICAL          15.23                 0.44                         2.0   \n",
       "4     MEDICAL          14.27                 0.53                         4.0   \n",
       "\n",
       "   credit_score previous_loan_defaults_on_file  loan_status  \n",
       "0           561                             No            1  \n",
       "1           504                            Yes            0  \n",
       "2           635                             No            1  \n",
       "3           675                             No            1  \n",
       "4           586                             No            1  "
      ]
     },
     "execution_count": 6,
     "metadata": {},
     "output_type": "execute_result"
    }
   ],
   "source": [
    "#droppiong unimportant columns\n",
    "df = df.drop(['person_education','person_emp_exp'],axis=1)\n",
    "df.head()"
   ]
  },
  {
   "cell_type": "code",
   "execution_count": 7,
   "id": "64111307-d989-48a7-b599-8ccc3b42938a",
   "metadata": {},
   "outputs": [
    {
     "data": {
      "text/plain": [
       "(45000, 12)"
      ]
     },
     "execution_count": 7,
     "metadata": {},
     "output_type": "execute_result"
    }
   ],
   "source": [
    "#to check how many rows and columns present in dataset\n",
    "df.shape"
   ]
  },
  {
   "cell_type": "code",
   "execution_count": 8,
   "id": "c496a800-ac5e-4c5d-aa91-e23a1aa1d36d",
   "metadata": {},
   "outputs": [
    {
     "data": {
      "image/png": "[encoded data removed]",
      "text/plain": [
       "<Figure size 800x600 with 1 Axes>"
      ]
     },
     "metadata": {},
     "output_type": "display_data"
    }
   ],
   "source": [
    "import seaborn as sns\n",
    "import matplotlib.pyplot as plt\n",
    "\n",
    "# Create the box plot\n",
    "plt.figure(figsize=(8, 6))\n",
    "sns.boxplot(x=df['person_income'], color='lightblue')\n",
    "plt.title('Box Plot of column1')\n",
    "plt.xlabel('Values')\n",
    "plt.show()"
   ]
  },
  {
   "cell_type": "code",
   "execution_count": 9,
   "id": "18ba95d4-ce8e-408f-a0ad-3bf52505ee9e",
   "metadata": {},
   "outputs": [],
   "source": [
    "#removing outliers using Z-score\n",
    "from scipy import stats\n",
    "z_score = np.abs(stats.zscore(df['person_income']))\n",
    "outliers = df[z_score > 3]"
   ]
  },
  {
   "cell_type": "code",
   "execution_count": 10,
   "id": "0eb17f18-2306-4f67-a96e-e5df19374d69",
   "metadata": {},
   "outputs": [
    {
     "name": "stdout",
     "output_type": "stream",
     "text": [
      "Number of outliers: 286\n"
     ]
    }
   ],
   "source": [
    "num_outliers = outliers.shape[0]\n",
    "print(f\"Number of outliers: {num_outliers}\")"
   ]
  },
  {
   "cell_type": "code",
   "execution_count": 11,
   "id": "cd7759f7-a9c0-4c0c-8c8c-cc8ee5624d54",
   "metadata": {},
   "outputs": [],
   "source": [
    "df = df[z_score <= 3]"
   ]
  },
  {
   "cell_type": "code",
   "execution_count": 12,
   "id": "d7a67241-73e2-4644-82a2-e5e0054ac3ee",
   "metadata": {},
   "outputs": [
    {
     "data": {
      "text/plain": [
       "(44714, 12)"
      ]
     },
     "execution_count": 12,
     "metadata": {},
     "output_type": "execute_result"
    }
   ],
   "source": [
    "df.shape"
   ]
  },
  {
   "cell_type": "code",
   "execution_count": 13,
   "id": "80eca210-ddd1-46a0-9c7d-24357408c8ca",
   "metadata": {},
   "outputs": [
    {
     "name": "stdout",
     "output_type": "stream",
     "text": [
      "Number of duplicate rows: 0\n"
     ]
    }
   ],
   "source": [
    "#to check if there are duplicates are available\n",
    "duplicates = df.duplicated()\n",
    "num_duplicates = duplicates.sum()\n",
    "print(f\"Number of duplicate rows: {num_duplicates}\")"
   ]
  },
  {
   "cell_type": "code",
   "execution_count": 14,
   "id": "fe679041-c882-4c47-bd7b-1000e4229f0b",
   "metadata": {},
   "outputs": [
    {
     "data": {
      "text/plain": [
       "person_age                        [22.0, 21.0, 25.0, 23.0, 24.0, 26.0, 144.0, 12...\n",
       "person_gender                                                        [female, male]\n",
       "person_income                     [71948.0, 12282.0, 12438.0, 79753.0, 66135.0, ...\n",
       "person_home_ownership                                  [RENT, OWN, MORTGAGE, OTHER]\n",
       "loan_amnt                         [35000.0, 1000.0, 5500.0, 2500.0, 1600.0, 4500...\n",
       "loan_intent                       [PERSONAL, EDUCATION, MEDICAL, VENTURE, HOMEIM...\n",
       "loan_int_rate                     [16.02, 11.14, 12.87, 15.23, 14.27, 7.14, 12.4...\n",
       "loan_percent_income               [0.49, 0.08, 0.44, 0.53, 0.19, 0.37, 0.35, 0.1...\n",
       "cb_person_cred_hist_length        [3.0, 2.0, 4.0, 6.0, 9.0, 10.0, 8.0, 7.0, 5.0,...\n",
       "credit_score                      [561, 504, 635, 675, 586, 532, 701, 585, 544, ...\n",
       "previous_loan_defaults_on_file                                            [No, Yes]\n",
       "loan_status                                                                  [1, 0]\n",
       "dtype: object"
      ]
     },
     "execution_count": 14,
     "metadata": {},
     "output_type": "execute_result"
    }
   ],
   "source": [
    "#unique values of each columns\n",
    "unique_values = df.apply(lambda x: x.unique())\n",
    "unique_values"
   ]
  },
  {
   "cell_type": "code",
   "execution_count": 15,
   "id": "ba299cdc-0e7c-493d-83be-ba8cb0b47d11",
   "metadata": {},
   "outputs": [
    {
     "name": "stderr",
     "output_type": "stream",
     "text": [
      "C:\\Users\\raiai\\AppData\\Local\\Temp\\ipykernel_3236\\3410102297.py:2: FutureWarning: Downcasting behavior in `replace` is deprecated and will be removed in a future version. To retain the old behavior, explicitly call `result.infer_objects(copy=False)`. To opt-in to the future behavior, set `pd.set_option('future.no_silent_downcasting', True)`\n",
      "  df['person_gender'] = df['person_gender'].replace({'female': 1, 'male': 0})\n"
     ]
    }
   ],
   "source": [
    "#converting ordinal categorical variable into numerical\n",
    "df['person_gender'] = df['person_gender'].replace({'female': 1, 'male': 0})"
   ]
  },
  {
   "cell_type": "code",
   "execution_count": 16,
   "id": "671f678f-6657-4521-b01f-2770695b4e61",
   "metadata": {},
   "outputs": [
    {
     "data": {
      "text/html": [
       "<div>\n",
       "<style scoped>\n",
       "    .dataframe tbody tr th:only-of-type {\n",
       "        vertical-align: middle;\n",
       "    }\n",
       "\n",
       "    .dataframe tbody tr th {\n",
       "        vertical-align: top;\n",
       "    }\n",
       "\n",
       "    .dataframe thead th {\n",
       "        text-align: right;\n",
       "    }\n",
       "</style>\n",
       "<table border=\"1\" class=\"dataframe\">\n",
       "  <thead>\n",
       "    <tr style=\"text-align: right;\">\n",
       "      <th></th>\n",
       "      <th>person_age</th>\n",
       "      <th>person_gender</th>\n",
       "      <th>person_income</th>\n",
       "      <th>person_home_ownership</th>\n",
       "      <th>loan_amnt</th>\n",
       "      <th>loan_intent</th>\n",
       "      <th>loan_int_rate</th>\n",
       "      <th>loan_percent_income</th>\n",
       "      <th>cb_person_cred_hist_length</th>\n",
       "      <th>credit_score</th>\n",
       "      <th>previous_loan_defaults_on_file</th>\n",
       "      <th>loan_status</th>\n",
       "    </tr>\n",
       "  </thead>\n",
       "  <tbody>\n",
       "    <tr>\n",
       "      <th>39304</th>\n",
       "      <td>34.0</td>\n",
       "      <td>0</td>\n",
       "      <td>170142.0</td>\n",
       "      <td>MORTGAGE</td>\n",
       "      <td>10000.0</td>\n",
       "      <td>PERSONAL</td>\n",
       "      <td>14.58</td>\n",
       "      <td>0.06</td>\n",
       "      <td>12.0</td>\n",
       "      <td>655</td>\n",
       "      <td>No</td>\n",
       "      <td>0</td>\n",
       "    </tr>\n",
       "    <tr>\n",
       "      <th>42843</th>\n",
       "      <td>25.0</td>\n",
       "      <td>0</td>\n",
       "      <td>113461.0</td>\n",
       "      <td>RENT</td>\n",
       "      <td>30566.0</td>\n",
       "      <td>MEDICAL</td>\n",
       "      <td>14.66</td>\n",
       "      <td>0.27</td>\n",
       "      <td>3.0</td>\n",
       "      <td>673</td>\n",
       "      <td>No</td>\n",
       "      <td>1</td>\n",
       "    </tr>\n",
       "    <tr>\n",
       "      <th>40310</th>\n",
       "      <td>25.0</td>\n",
       "      <td>1</td>\n",
       "      <td>78904.0</td>\n",
       "      <td>RENT</td>\n",
       "      <td>9000.0</td>\n",
       "      <td>EDUCATION</td>\n",
       "      <td>10.40</td>\n",
       "      <td>0.11</td>\n",
       "      <td>4.0</td>\n",
       "      <td>439</td>\n",
       "      <td>Yes</td>\n",
       "      <td>0</td>\n",
       "    </tr>\n",
       "  </tbody>\n",
       "</table>\n",
       "</div>"
      ],
      "text/plain": [
       "       person_age  person_gender  person_income person_home_ownership  \\\n",
       "39304        34.0              0       170142.0              MORTGAGE   \n",
       "42843        25.0              0       113461.0                  RENT   \n",
       "40310        25.0              1        78904.0                  RENT   \n",
       "\n",
       "       loan_amnt loan_intent  loan_int_rate  loan_percent_income  \\\n",
       "39304    10000.0    PERSONAL          14.58                 0.06   \n",
       "42843    30566.0     MEDICAL          14.66                 0.27   \n",
       "40310     9000.0   EDUCATION          10.40                 0.11   \n",
       "\n",
       "       cb_person_cred_hist_length  credit_score  \\\n",
       "39304                        12.0           655   \n",
       "42843                         3.0           673   \n",
       "40310                         4.0           439   \n",
       "\n",
       "      previous_loan_defaults_on_file  loan_status  \n",
       "39304                             No            0  \n",
       "42843                             No            1  \n",
       "40310                            Yes            0  "
      ]
     },
     "execution_count": 16,
     "metadata": {},
     "output_type": "execute_result"
    }
   ],
   "source": [
    "df.sample(3)"
   ]
  },
  {
   "cell_type": "code",
   "execution_count": 17,
   "id": "9d7f4453-f1df-4098-a9cd-c49eaf2a38da",
   "metadata": {},
   "outputs": [
    {
     "name": "stderr",
     "output_type": "stream",
     "text": [
      "C:\\Users\\raiai\\AppData\\Local\\Temp\\ipykernel_3236\\3034969909.py:1: FutureWarning: Downcasting behavior in `replace` is deprecated and will be removed in a future version. To retain the old behavior, explicitly call `result.infer_objects(copy=False)`. To opt-in to the future behavior, set `pd.set_option('future.no_silent_downcasting', True)`\n",
      "  df['previous_loan_defaults_on_file'] = df['previous_loan_defaults_on_file'].replace({'No': 0, 'Yes': 1})\n"
     ]
    },
    {
     "data": {
      "text/html": [
       "<div>\n",
       "<style scoped>\n",
       "    .dataframe tbody tr th:only-of-type {\n",
       "        vertical-align: middle;\n",
       "    }\n",
       "\n",
       "    .dataframe tbody tr th {\n",
       "        vertical-align: top;\n",
       "    }\n",
       "\n",
       "    .dataframe thead th {\n",
       "        text-align: right;\n",
       "    }\n",
       "</style>\n",
       "<table border=\"1\" class=\"dataframe\">\n",
       "  <thead>\n",
       "    <tr style=\"text-align: right;\">\n",
       "      <th></th>\n",
       "      <th>person_age</th>\n",
       "      <th>person_gender</th>\n",
       "      <th>person_income</th>\n",
       "      <th>person_home_ownership</th>\n",
       "      <th>loan_amnt</th>\n",
       "      <th>loan_intent</th>\n",
       "      <th>loan_int_rate</th>\n",
       "      <th>loan_percent_income</th>\n",
       "      <th>cb_person_cred_hist_length</th>\n",
       "      <th>credit_score</th>\n",
       "      <th>previous_loan_defaults_on_file</th>\n",
       "      <th>loan_status</th>\n",
       "    </tr>\n",
       "  </thead>\n",
       "  <tbody>\n",
       "    <tr>\n",
       "      <th>12345</th>\n",
       "      <td>25.0</td>\n",
       "      <td>1</td>\n",
       "      <td>97171.0</td>\n",
       "      <td>MORTGAGE</td>\n",
       "      <td>22000.0</td>\n",
       "      <td>EDUCATION</td>\n",
       "      <td>11.48</td>\n",
       "      <td>0.23</td>\n",
       "      <td>3.0</td>\n",
       "      <td>655</td>\n",
       "      <td>1</td>\n",
       "      <td>0</td>\n",
       "    </tr>\n",
       "    <tr>\n",
       "      <th>409</th>\n",
       "      <td>24.0</td>\n",
       "      <td>1</td>\n",
       "      <td>57356.0</td>\n",
       "      <td>RENT</td>\n",
       "      <td>24000.0</td>\n",
       "      <td>PERSONAL</td>\n",
       "      <td>17.80</td>\n",
       "      <td>0.42</td>\n",
       "      <td>2.0</td>\n",
       "      <td>672</td>\n",
       "      <td>0</td>\n",
       "      <td>1</td>\n",
       "    </tr>\n",
       "    <tr>\n",
       "      <th>3702</th>\n",
       "      <td>21.0</td>\n",
       "      <td>1</td>\n",
       "      <td>46845.0</td>\n",
       "      <td>OWN</td>\n",
       "      <td>5000.0</td>\n",
       "      <td>MEDICAL</td>\n",
       "      <td>8.94</td>\n",
       "      <td>0.11</td>\n",
       "      <td>2.0</td>\n",
       "      <td>623</td>\n",
       "      <td>0</td>\n",
       "      <td>0</td>\n",
       "    </tr>\n",
       "  </tbody>\n",
       "</table>\n",
       "</div>"
      ],
      "text/plain": [
       "       person_age  person_gender  person_income person_home_ownership  \\\n",
       "12345        25.0              1        97171.0              MORTGAGE   \n",
       "409          24.0              1        57356.0                  RENT   \n",
       "3702         21.0              1        46845.0                   OWN   \n",
       "\n",
       "       loan_amnt loan_intent  loan_int_rate  loan_percent_income  \\\n",
       "12345    22000.0   EDUCATION          11.48                 0.23   \n",
       "409      24000.0    PERSONAL          17.80                 0.42   \n",
       "3702      5000.0     MEDICAL           8.94                 0.11   \n",
       "\n",
       "       cb_person_cred_hist_length  credit_score  \\\n",
       "12345                         3.0           655   \n",
       "409                           2.0           672   \n",
       "3702                          2.0           623   \n",
       "\n",
       "       previous_loan_defaults_on_file  loan_status  \n",
       "12345                               1            0  \n",
       "409                                 0            1  \n",
       "3702                                0            0  "
      ]
     },
     "execution_count": 17,
     "metadata": {},
     "output_type": "execute_result"
    }
   ],
   "source": [
    "df['previous_loan_defaults_on_file'] = df['previous_loan_defaults_on_file'].replace({'No': 0, 'Yes': 1})\n",
    "df.sample(3)"
   ]
  },
  {
   "cell_type": "code",
   "execution_count": 18,
   "id": "e68a4333-b6d0-4402-979c-9119e7c91397",
   "metadata": {},
   "outputs": [],
   "source": [
    "df= pd.get_dummies(df, columns=['person_home_ownership', 'loan_intent'])"
   ]
  },
  {
   "cell_type": "code",
   "execution_count": 19,
   "id": "2666115a-5662-44a8-bba1-3fd118c1031d",
   "metadata": {},
   "outputs": [
    {
     "data": {
      "text/html": [
       "<div>\n",
       "<style scoped>\n",
       "    .dataframe tbody tr th:only-of-type {\n",
       "        vertical-align: middle;\n",
       "    }\n",
       "\n",
       "    .dataframe tbody tr th {\n",
       "        vertical-align: top;\n",
       "    }\n",
       "\n",
       "    .dataframe thead th {\n",
       "        text-align: right;\n",
       "    }\n",
       "</style>\n",
       "<table border=\"1\" class=\"dataframe\">\n",
       "  <thead>\n",
       "    <tr style=\"text-align: right;\">\n",
       "      <th></th>\n",
       "      <th>person_age</th>\n",
       "      <th>person_gender</th>\n",
       "      <th>person_income</th>\n",
       "      <th>loan_amnt</th>\n",
       "      <th>loan_int_rate</th>\n",
       "      <th>loan_percent_income</th>\n",
       "      <th>cb_person_cred_hist_length</th>\n",
       "      <th>credit_score</th>\n",
       "      <th>previous_loan_defaults_on_file</th>\n",
       "      <th>loan_status</th>\n",
       "      <th>person_home_ownership_MORTGAGE</th>\n",
       "      <th>person_home_ownership_OTHER</th>\n",
       "      <th>person_home_ownership_OWN</th>\n",
       "      <th>person_home_ownership_RENT</th>\n",
       "      <th>loan_intent_DEBTCONSOLIDATION</th>\n",
       "      <th>loan_intent_EDUCATION</th>\n",
       "      <th>loan_intent_HOMEIMPROVEMENT</th>\n",
       "      <th>loan_intent_MEDICAL</th>\n",
       "      <th>loan_intent_PERSONAL</th>\n",
       "      <th>loan_intent_VENTURE</th>\n",
       "    </tr>\n",
       "  </thead>\n",
       "  <tbody>\n",
       "    <tr>\n",
       "      <th>38776</th>\n",
       "      <td>36.0</td>\n",
       "      <td>0</td>\n",
       "      <td>59563.0</td>\n",
       "      <td>12000.0</td>\n",
       "      <td>13.99</td>\n",
       "      <td>0.20</td>\n",
       "      <td>12.0</td>\n",
       "      <td>541</td>\n",
       "      <td>1</td>\n",
       "      <td>0</td>\n",
       "      <td>False</td>\n",
       "      <td>False</td>\n",
       "      <td>False</td>\n",
       "      <td>True</td>\n",
       "      <td>False</td>\n",
       "      <td>False</td>\n",
       "      <td>False</td>\n",
       "      <td>False</td>\n",
       "      <td>False</td>\n",
       "      <td>True</td>\n",
       "    </tr>\n",
       "    <tr>\n",
       "      <th>18428</th>\n",
       "      <td>27.0</td>\n",
       "      <td>0</td>\n",
       "      <td>105315.0</td>\n",
       "      <td>20000.0</td>\n",
       "      <td>7.49</td>\n",
       "      <td>0.19</td>\n",
       "      <td>8.0</td>\n",
       "      <td>663</td>\n",
       "      <td>1</td>\n",
       "      <td>0</td>\n",
       "      <td>False</td>\n",
       "      <td>False</td>\n",
       "      <td>False</td>\n",
       "      <td>True</td>\n",
       "      <td>False</td>\n",
       "      <td>False</td>\n",
       "      <td>True</td>\n",
       "      <td>False</td>\n",
       "      <td>False</td>\n",
       "      <td>False</td>\n",
       "    </tr>\n",
       "    <tr>\n",
       "      <th>14580</th>\n",
       "      <td>25.0</td>\n",
       "      <td>1</td>\n",
       "      <td>47944.0</td>\n",
       "      <td>2000.0</td>\n",
       "      <td>7.66</td>\n",
       "      <td>0.04</td>\n",
       "      <td>4.0</td>\n",
       "      <td>670</td>\n",
       "      <td>0</td>\n",
       "      <td>1</td>\n",
       "      <td>False</td>\n",
       "      <td>False</td>\n",
       "      <td>False</td>\n",
       "      <td>True</td>\n",
       "      <td>False</td>\n",
       "      <td>False</td>\n",
       "      <td>True</td>\n",
       "      <td>False</td>\n",
       "      <td>False</td>\n",
       "      <td>False</td>\n",
       "    </tr>\n",
       "  </tbody>\n",
       "</table>\n",
       "</div>"
      ],
      "text/plain": [
       "       person_age  person_gender  person_income  loan_amnt  loan_int_rate  \\\n",
       "38776        36.0              0        59563.0    12000.0          13.99   \n",
       "18428        27.0              0       105315.0    20000.0           7.49   \n",
       "14580        25.0              1        47944.0     2000.0           7.66   \n",
       "\n",
       "       loan_percent_income  cb_person_cred_hist_length  credit_score  \\\n",
       "38776                 0.20                        12.0           541   \n",
       "18428                 0.19                         8.0           663   \n",
       "14580                 0.04                         4.0           670   \n",
       "\n",
       "       previous_loan_defaults_on_file  loan_status  \\\n",
       "38776                               1            0   \n",
       "18428                               1            0   \n",
       "14580                               0            1   \n",
       "\n",
       "       person_home_ownership_MORTGAGE  person_home_ownership_OTHER  \\\n",
       "38776                           False                        False   \n",
       "18428                           False                        False   \n",
       "14580                           False                        False   \n",
       "\n",
       "       person_home_ownership_OWN  person_home_ownership_RENT  \\\n",
       "38776                      False                        True   \n",
       "18428                      False                        True   \n",
       "14580                      False                        True   \n",
       "\n",
       "       loan_intent_DEBTCONSOLIDATION  loan_intent_EDUCATION  \\\n",
       "38776                          False                  False   \n",
       "18428                          False                  False   \n",
       "14580                          False                  False   \n",
       "\n",
       "       loan_intent_HOMEIMPROVEMENT  loan_intent_MEDICAL  loan_intent_PERSONAL  \\\n",
       "38776                        False                False                 False   \n",
       "18428                         True                False                 False   \n",
       "14580                         True                False                 False   \n",
       "\n",
       "       loan_intent_VENTURE  \n",
       "38776                 True  \n",
       "18428                False  \n",
       "14580                False  "
      ]
     },
     "execution_count": 19,
     "metadata": {},
     "output_type": "execute_result"
    }
   ],
   "source": [
    "df.sample(3)"
   ]
  },
  {
   "cell_type": "code",
   "execution_count": 20,
   "id": "08e06f69-d437-4ee0-be38-8705f292a126",
   "metadata": {},
   "outputs": [
    {
     "name": "stderr",
     "output_type": "stream",
     "text": [
      "C:\\Users\\raiai\\AppData\\Local\\Temp\\ipykernel_3236\\1918475839.py:1: FutureWarning: Downcasting behavior in `replace` is deprecated and will be removed in a future version. To retain the old behavior, explicitly call `result.infer_objects(copy=False)`. To opt-in to the future behavior, set `pd.set_option('future.no_silent_downcasting', True)`\n",
      "  df = df.replace({True: 1, False: 0})\n"
     ]
    },
    {
     "data": {
      "text/html": [
       "<div>\n",
       "<style scoped>\n",
       "    .dataframe tbody tr th:only-of-type {\n",
       "        vertical-align: middle;\n",
       "    }\n",
       "\n",
       "    .dataframe tbody tr th {\n",
       "        vertical-align: top;\n",
       "    }\n",
       "\n",
       "    .dataframe thead th {\n",
       "        text-align: right;\n",
       "    }\n",
       "</style>\n",
       "<table border=\"1\" class=\"dataframe\">\n",
       "  <thead>\n",
       "    <tr style=\"text-align: right;\">\n",
       "      <th></th>\n",
       "      <th>person_age</th>\n",
       "      <th>person_gender</th>\n",
       "      <th>person_income</th>\n",
       "      <th>loan_amnt</th>\n",
       "      <th>loan_int_rate</th>\n",
       "      <th>loan_percent_income</th>\n",
       "      <th>cb_person_cred_hist_length</th>\n",
       "      <th>credit_score</th>\n",
       "      <th>previous_loan_defaults_on_file</th>\n",
       "      <th>loan_status</th>\n",
       "      <th>person_home_ownership_MORTGAGE</th>\n",
       "      <th>person_home_ownership_OTHER</th>\n",
       "      <th>person_home_ownership_OWN</th>\n",
       "      <th>person_home_ownership_RENT</th>\n",
       "      <th>loan_intent_DEBTCONSOLIDATION</th>\n",
       "      <th>loan_intent_EDUCATION</th>\n",
       "      <th>loan_intent_HOMEIMPROVEMENT</th>\n",
       "      <th>loan_intent_MEDICAL</th>\n",
       "      <th>loan_intent_PERSONAL</th>\n",
       "      <th>loan_intent_VENTURE</th>\n",
       "    </tr>\n",
       "  </thead>\n",
       "  <tbody>\n",
       "    <tr>\n",
       "      <th>20019</th>\n",
       "      <td>31.0</td>\n",
       "      <td>0</td>\n",
       "      <td>75707.0</td>\n",
       "      <td>3600.0</td>\n",
       "      <td>15.95</td>\n",
       "      <td>0.05</td>\n",
       "      <td>9.0</td>\n",
       "      <td>716</td>\n",
       "      <td>0</td>\n",
       "      <td>1</td>\n",
       "      <td>0</td>\n",
       "      <td>0</td>\n",
       "      <td>0</td>\n",
       "      <td>1</td>\n",
       "      <td>0</td>\n",
       "      <td>0</td>\n",
       "      <td>0</td>\n",
       "      <td>1</td>\n",
       "      <td>0</td>\n",
       "      <td>0</td>\n",
       "    </tr>\n",
       "    <tr>\n",
       "      <th>15948</th>\n",
       "      <td>21.0</td>\n",
       "      <td>1</td>\n",
       "      <td>10606.0</td>\n",
       "      <td>2800.0</td>\n",
       "      <td>7.40</td>\n",
       "      <td>0.26</td>\n",
       "      <td>2.0</td>\n",
       "      <td>627</td>\n",
       "      <td>0</td>\n",
       "      <td>1</td>\n",
       "      <td>0</td>\n",
       "      <td>0</td>\n",
       "      <td>0</td>\n",
       "      <td>1</td>\n",
       "      <td>1</td>\n",
       "      <td>0</td>\n",
       "      <td>0</td>\n",
       "      <td>0</td>\n",
       "      <td>0</td>\n",
       "      <td>0</td>\n",
       "    </tr>\n",
       "    <tr>\n",
       "      <th>13295</th>\n",
       "      <td>22.0</td>\n",
       "      <td>1</td>\n",
       "      <td>36981.0</td>\n",
       "      <td>2800.0</td>\n",
       "      <td>6.54</td>\n",
       "      <td>0.08</td>\n",
       "      <td>3.0</td>\n",
       "      <td>661</td>\n",
       "      <td>1</td>\n",
       "      <td>0</td>\n",
       "      <td>0</td>\n",
       "      <td>0</td>\n",
       "      <td>0</td>\n",
       "      <td>1</td>\n",
       "      <td>1</td>\n",
       "      <td>0</td>\n",
       "      <td>0</td>\n",
       "      <td>0</td>\n",
       "      <td>0</td>\n",
       "      <td>0</td>\n",
       "    </tr>\n",
       "  </tbody>\n",
       "</table>\n",
       "</div>"
      ],
      "text/plain": [
       "       person_age  person_gender  person_income  loan_amnt  loan_int_rate  \\\n",
       "20019        31.0              0        75707.0     3600.0          15.95   \n",
       "15948        21.0              1        10606.0     2800.0           7.40   \n",
       "13295        22.0              1        36981.0     2800.0           6.54   \n",
       "\n",
       "       loan_percent_income  cb_person_cred_hist_length  credit_score  \\\n",
       "20019                 0.05                         9.0           716   \n",
       "15948                 0.26                         2.0           627   \n",
       "13295                 0.08                         3.0           661   \n",
       "\n",
       "       previous_loan_defaults_on_file  loan_status  \\\n",
       "20019                               0            1   \n",
       "15948                               0            1   \n",
       "13295                               1            0   \n",
       "\n",
       "       person_home_ownership_MORTGAGE  person_home_ownership_OTHER  \\\n",
       "20019                               0                            0   \n",
       "15948                               0                            0   \n",
       "13295                               0                            0   \n",
       "\n",
       "       person_home_ownership_OWN  person_home_ownership_RENT  \\\n",
       "20019                          0                           1   \n",
       "15948                          0                           1   \n",
       "13295                          0                           1   \n",
       "\n",
       "       loan_intent_DEBTCONSOLIDATION  loan_intent_EDUCATION  \\\n",
       "20019                              0                      0   \n",
       "15948                              1                      0   \n",
       "13295                              1                      0   \n",
       "\n",
       "       loan_intent_HOMEIMPROVEMENT  loan_intent_MEDICAL  loan_intent_PERSONAL  \\\n",
       "20019                            0                    1                     0   \n",
       "15948                            0                    0                     0   \n",
       "13295                            0                    0                     0   \n",
       "\n",
       "       loan_intent_VENTURE  \n",
       "20019                    0  \n",
       "15948                    0  \n",
       "13295                    0  "
      ]
     },
     "execution_count": 20,
     "metadata": {},
     "output_type": "execute_result"
    }
   ],
   "source": [
    "df = df.replace({True: 1, False: 0})\n",
    "df.sample(3)"
   ]
  },
  {
   "cell_type": "code",
   "execution_count": 21,
   "id": "c6ffce84-50cb-42f4-9ad3-e93b21a2ba80",
   "metadata": {},
   "outputs": [
    {
     "data": {
      "text/html": [
       "<div>\n",
       "<style scoped>\n",
       "    .dataframe tbody tr th:only-of-type {\n",
       "        vertical-align: middle;\n",
       "    }\n",
       "\n",
       "    .dataframe tbody tr th {\n",
       "        vertical-align: top;\n",
       "    }\n",
       "\n",
       "    .dataframe thead th {\n",
       "        text-align: right;\n",
       "    }\n",
       "</style>\n",
       "<table border=\"1\" class=\"dataframe\">\n",
       "  <thead>\n",
       "    <tr style=\"text-align: right;\">\n",
       "      <th></th>\n",
       "      <th>person_age</th>\n",
       "      <th>person_gender</th>\n",
       "      <th>person_income</th>\n",
       "      <th>loan_amnt</th>\n",
       "      <th>loan_int_rate</th>\n",
       "      <th>loan_percent_income</th>\n",
       "      <th>cb_person_cred_hist_length</th>\n",
       "      <th>credit_score</th>\n",
       "      <th>previous_loan_defaults_on_file</th>\n",
       "      <th>loan_status</th>\n",
       "      <th>person_home_ownership_MORTGAGE</th>\n",
       "      <th>person_home_ownership_OTHER</th>\n",
       "      <th>person_home_ownership_OWN</th>\n",
       "      <th>person_home_ownership_RENT</th>\n",
       "      <th>loan_intent_DEBTCONSOLIDATION</th>\n",
       "      <th>loan_intent_EDUCATION</th>\n",
       "      <th>loan_intent_HOMEIMPROVEMENT</th>\n",
       "      <th>loan_intent_MEDICAL</th>\n",
       "      <th>loan_intent_PERSONAL</th>\n",
       "      <th>loan_intent_VENTURE</th>\n",
       "    </tr>\n",
       "  </thead>\n",
       "  <tbody>\n",
       "    <tr>\n",
       "      <th>10299</th>\n",
       "      <td>0.040323</td>\n",
       "      <td>0</td>\n",
       "      <td>0.276146</td>\n",
       "      <td>0.263768</td>\n",
       "      <td>0.596022</td>\n",
       "      <td>0.151515</td>\n",
       "      <td>0.071429</td>\n",
       "      <td>0.594724</td>\n",
       "      <td>0</td>\n",
       "      <td>1</td>\n",
       "      <td>0</td>\n",
       "      <td>0</td>\n",
       "      <td>0</td>\n",
       "      <td>1</td>\n",
       "      <td>1</td>\n",
       "      <td>0</td>\n",
       "      <td>0</td>\n",
       "      <td>0</td>\n",
       "      <td>0</td>\n",
       "      <td>0</td>\n",
       "    </tr>\n",
       "    <tr>\n",
       "      <th>6528</th>\n",
       "      <td>0.024194</td>\n",
       "      <td>0</td>\n",
       "      <td>0.168772</td>\n",
       "      <td>0.162319</td>\n",
       "      <td>0.383402</td>\n",
       "      <td>0.151515</td>\n",
       "      <td>0.071429</td>\n",
       "      <td>0.609113</td>\n",
       "      <td>0</td>\n",
       "      <td>0</td>\n",
       "      <td>1</td>\n",
       "      <td>0</td>\n",
       "      <td>0</td>\n",
       "      <td>0</td>\n",
       "      <td>0</td>\n",
       "      <td>0</td>\n",
       "      <td>0</td>\n",
       "      <td>0</td>\n",
       "      <td>0</td>\n",
       "      <td>1</td>\n",
       "    </tr>\n",
       "    <tr>\n",
       "      <th>22649</th>\n",
       "      <td>0.064516</td>\n",
       "      <td>1</td>\n",
       "      <td>0.130843</td>\n",
       "      <td>0.202899</td>\n",
       "      <td>0.441701</td>\n",
       "      <td>0.227273</td>\n",
       "      <td>0.214286</td>\n",
       "      <td>0.534772</td>\n",
       "      <td>0</td>\n",
       "      <td>0</td>\n",
       "      <td>0</td>\n",
       "      <td>0</td>\n",
       "      <td>0</td>\n",
       "      <td>1</td>\n",
       "      <td>0</td>\n",
       "      <td>0</td>\n",
       "      <td>0</td>\n",
       "      <td>0</td>\n",
       "      <td>1</td>\n",
       "      <td>0</td>\n",
       "    </tr>\n",
       "  </tbody>\n",
       "</table>\n",
       "</div>"
      ],
      "text/plain": [
       "       person_age  person_gender  person_income  loan_amnt  loan_int_rate  \\\n",
       "10299    0.040323              0       0.276146   0.263768       0.596022   \n",
       "6528     0.024194              0       0.168772   0.162319       0.383402   \n",
       "22649    0.064516              1       0.130843   0.202899       0.441701   \n",
       "\n",
       "       loan_percent_income  cb_person_cred_hist_length  credit_score  \\\n",
       "10299             0.151515                    0.071429      0.594724   \n",
       "6528              0.151515                    0.071429      0.609113   \n",
       "22649             0.227273                    0.214286      0.534772   \n",
       "\n",
       "       previous_loan_defaults_on_file  loan_status  \\\n",
       "10299                               0            1   \n",
       "6528                                0            0   \n",
       "22649                               0            0   \n",
       "\n",
       "       person_home_ownership_MORTGAGE  person_home_ownership_OTHER  \\\n",
       "10299                               0                            0   \n",
       "6528                                1                            0   \n",
       "22649                               0                            0   \n",
       "\n",
       "       person_home_ownership_OWN  person_home_ownership_RENT  \\\n",
       "10299                          0                           1   \n",
       "6528                           0                           0   \n",
       "22649                          0                           1   \n",
       "\n",
       "       loan_intent_DEBTCONSOLIDATION  loan_intent_EDUCATION  \\\n",
       "10299                              1                      0   \n",
       "6528                               0                      0   \n",
       "22649                              0                      0   \n",
       "\n",
       "       loan_intent_HOMEIMPROVEMENT  loan_intent_MEDICAL  loan_intent_PERSONAL  \\\n",
       "10299                            0                    0                     0   \n",
       "6528                             0                    0                     0   \n",
       "22649                            0                    0                     1   \n",
       "\n",
       "       loan_intent_VENTURE  \n",
       "10299                    0  \n",
       "6528                     1  \n",
       "22649                    0  "
      ]
     },
     "execution_count": 21,
     "metadata": {},
     "output_type": "execute_result"
    }
   ],
   "source": [
    "cols_to_scale=['person_age','person_income','loan_amnt','loan_int_rate','loan_percent_income','cb_person_cred_hist_length','credit_score']\n",
    "from sklearn.preprocessing import MinMaxScaler\n",
    "Scaler=MinMaxScaler()\n",
    "df[cols_to_scale]= Scaler.fit_transform(df[cols_to_scale])\n",
    "df.sample(3)"
   ]
  },
  {
   "cell_type": "code",
   "execution_count": 22,
   "id": "e1d562e5-45fa-4311-9073-56cf9a85369f",
   "metadata": {},
   "outputs": [],
   "source": [
    "from sklearn.model_selection import train_test_split\n",
    "X = df.drop(columns=['loan_status'])  # Features\n",
    "y = df['loan_status'] \n",
    "\n",
    "X_train, X_test, y_train, y_test = train_test_split(X, y, test_size=0.2, random_state=42)"
   ]
  },
  {
   "cell_type": "code",
   "execution_count": 91,
   "id": "381e46e0-5773-482d-8ebc-5658a579e651",
   "metadata": {},
   "outputs": [
    {
     "data": {
      "text/plain": [
       "(35771, 19)"
      ]
     },
     "execution_count": 91,
     "metadata": {},
     "output_type": "execute_result"
    }
   ],
   "source": [
    "X_train.shape"
   ]
  },
  {
   "cell_type": "code",
   "execution_count": 92,
   "id": "ba3dfa57-e3ef-4280-83f1-acefbd34a7ec",
   "metadata": {},
   "outputs": [
    {
     "data": {
      "text/plain": [
       "(8943, 19)"
      ]
     },
     "execution_count": 92,
     "metadata": {},
     "output_type": "execute_result"
    }
   ],
   "source": [
    "X_test.shape"
   ]
  },
  {
   "cell_type": "code",
   "execution_count": 93,
   "id": "80211cb0-6a56-4f70-b600-ce2152e92595",
   "metadata": {},
   "outputs": [
    {
     "data": {
      "text/plain": [
       "(35771,)"
      ]
     },
     "execution_count": 93,
     "metadata": {},
     "output_type": "execute_result"
    }
   ],
   "source": [
    "Y_train.shape"
   ]
  },
  {
   "cell_type": "code",
   "execution_count": 94,
   "id": "72ac119c-572a-4310-8648-dffa50d11394",
   "metadata": {},
   "outputs": [
    {
     "data": {
      "text/plain": [
       "(8943,)"
      ]
     },
     "execution_count": 94,
     "metadata": {},
     "output_type": "execute_result"
    }
   ],
   "source": [
    "Y_test.shape"
   ]
  },
  {
   "cell_type": "code",
   "execution_count": 23,
   "id": "56934a73-024b-4c0e-8122-0dd375d08ae5",
   "metadata": {},
   "outputs": [
    {
     "name": "stderr",
     "output_type": "stream",
     "text": [
      "C:\\Users\\raiai\\anaconda3\\Lib\\site-packages\\keras\\src\\layers\\core\\dense.py:87: UserWarning: Do not pass an `input_shape`/`input_dim` argument to a layer. When using Sequential models, prefer using an `Input(shape)` object as the first layer in the model instead.\n",
      "  super().__init__(activity_regularizer=activity_regularizer, **kwargs)\n"
     ]
    }
   ],
   "source": [
    "import keras\n",
    "from keras.models import Sequential\n",
    "from keras.layers import Dense\n",
    "\n",
    "# Initialize the model\n",
    "model = Sequential()\n",
    "\n",
    "# Add input layer and first hidden layer\n",
    "model.add(Dense(units=32, activation='relu', input_shape=(X_train.shape[1],)))\n",
    "\n",
    "# Add more hidden layers as needed\n",
    "model.add(Dense(units=16, activation='relu'))\n",
    "\n",
    "# Add output layer (1 unit for binary classification)\n",
    "model.add(Dense(units=1, activation='sigmoid'))"
   ]
  },
  {
   "cell_type": "code",
   "execution_count": 25,
   "id": "717deabf-b1cd-4a19-aa5d-de5fda2a2e12",
   "metadata": {},
   "outputs": [],
   "source": [
    "model.compile(optimizer='adam', loss='binary_crossentropy', metrics=['accuracy'])"
   ]
  },
  {
   "cell_type": "code",
   "execution_count": 26,
   "id": "2ba34fcf-0705-4266-ba7e-6976017464e2",
   "metadata": {},
   "outputs": [
    {
     "name": "stdout",
     "output_type": "stream",
     "text": [
      "Epoch 1/50\n",
      "\u001b[1m1789/1789\u001b[0m \u001b[32m━━━━━━━━━━━━━━━━━━━━\u001b[0m\u001b[37m\u001b[0m \u001b[1m10s\u001b[0m 4ms/step - accuracy: 0.8371 - loss: 0.3342 - val_accuracy: 0.8960 - val_loss: 0.2169\n",
      "Epoch 2/50\n",
      "\u001b[1m1789/1789\u001b[0m \u001b[32m━━━━━━━━━━━━━━━━━━━━\u001b[0m\u001b[37m\u001b[0m \u001b[1m7s\u001b[0m 4ms/step - accuracy: 0.8997 - loss: 0.2168 - val_accuracy: 0.9040 - val_loss: 0.2097\n",
      "Epoch 3/50\n",
      "\u001b[1m1789/1789\u001b[0m \u001b[32m━━━━━━━━━━━━━━━━━━━━\u001b[0m\u001b[37m\u001b[0m \u001b[1m6s\u001b[0m 3ms/step - accuracy: 0.9049 - loss: 0.2095 - val_accuracy: 0.9076 - val_loss: 0.2047\n",
      "Epoch 4/50\n",
      "\u001b[1m1789/1789\u001b[0m \u001b[32m━━━━━━━━━━━━━━━━━━━━\u001b[0m\u001b[37m\u001b[0m \u001b[1m7s\u001b[0m 4ms/step - accuracy: 0.9065 - loss: 0.2039 - val_accuracy: 0.9076 - val_loss: 0.2027\n",
      "Epoch 5/50\n",
      "\u001b[1m1789/1789\u001b[0m \u001b[32m━━━━━━━━━━━━━━━━━━━━\u001b[0m\u001b[37m\u001b[0m \u001b[1m6s\u001b[0m 3ms/step - accuracy: 0.9059 - loss: 0.2050 - val_accuracy: 0.9107 - val_loss: 0.1965\n",
      "Epoch 6/50\n",
      "\u001b[1m1789/1789\u001b[0m \u001b[32m━━━━━━━━━━━━━━━━━━━━\u001b[0m\u001b[37m\u001b[0m \u001b[1m6s\u001b[0m 3ms/step - accuracy: 0.9121 - loss: 0.1954 - val_accuracy: 0.9138 - val_loss: 0.1953\n",
      "Epoch 7/50\n",
      "\u001b[1m1789/1789\u001b[0m \u001b[32m━━━━━━━━━━━━━━━━━━━━\u001b[0m\u001b[37m\u001b[0m \u001b[1m6s\u001b[0m 3ms/step - accuracy: 0.9110 - loss: 0.1973 - val_accuracy: 0.9107 - val_loss: 0.1942\n",
      "Epoch 8/50\n",
      "\u001b[1m1789/1789\u001b[0m \u001b[32m━━━━━━━━━━━━━━━━━━━━\u001b[0m\u001b[37m\u001b[0m \u001b[1m6s\u001b[0m 4ms/step - accuracy: 0.9161 - loss: 0.1912 - val_accuracy: 0.9139 - val_loss: 0.1933\n",
      "Epoch 9/50\n",
      "\u001b[1m1789/1789\u001b[0m \u001b[32m━━━━━━━━━━━━━━━━━━━━\u001b[0m\u001b[37m\u001b[0m \u001b[1m7s\u001b[0m 4ms/step - accuracy: 0.9118 - loss: 0.1955 - val_accuracy: 0.9149 - val_loss: 0.1923\n",
      "Epoch 10/50\n",
      "\u001b[1m1789/1789\u001b[0m \u001b[32m━━━━━━━━━━━━━━━━━━━━\u001b[0m\u001b[37m\u001b[0m \u001b[1m7s\u001b[0m 4ms/step - accuracy: 0.9144 - loss: 0.1954 - val_accuracy: 0.9117 - val_loss: 0.1928\n",
      "Epoch 11/50\n",
      "\u001b[1m1789/1789\u001b[0m \u001b[32m━━━━━━━━━━━━━━━━━━━━\u001b[0m\u001b[37m\u001b[0m \u001b[1m7s\u001b[0m 4ms/step - accuracy: 0.9105 - loss: 0.1967 - val_accuracy: 0.9170 - val_loss: 0.1899\n",
      "Epoch 12/50\n",
      "\u001b[1m1789/1789\u001b[0m \u001b[32m━━━━━━━━━━━━━━━━━━━━\u001b[0m\u001b[37m\u001b[0m \u001b[1m7s\u001b[0m 4ms/step - accuracy: 0.9161 - loss: 0.1890 - val_accuracy: 0.9142 - val_loss: 0.1892\n",
      "Epoch 13/50\n",
      "\u001b[1m1789/1789\u001b[0m \u001b[32m━━━━━━━━━━━━━━━━━━━━\u001b[0m\u001b[37m\u001b[0m \u001b[1m6s\u001b[0m 3ms/step - accuracy: 0.9173 - loss: 0.1866 - val_accuracy: 0.9153 - val_loss: 0.1879\n",
      "Epoch 14/50\n",
      "\u001b[1m1789/1789\u001b[0m \u001b[32m━━━━━━━━━━━━━━━━━━━━\u001b[0m\u001b[37m\u001b[0m \u001b[1m7s\u001b[0m 4ms/step - accuracy: 0.9106 - loss: 0.1940 - val_accuracy: 0.9132 - val_loss: 0.1901\n",
      "Epoch 15/50\n",
      "\u001b[1m1789/1789\u001b[0m \u001b[32m━━━━━━━━━━━━━━━━━━━━\u001b[0m\u001b[37m\u001b[0m \u001b[1m7s\u001b[0m 4ms/step - accuracy: 0.9161 - loss: 0.1860 - val_accuracy: 0.9113 - val_loss: 0.1942\n",
      "Epoch 16/50\n",
      "\u001b[1m1789/1789\u001b[0m \u001b[32m━━━━━━━━━━━━━━━━━━━━\u001b[0m\u001b[37m\u001b[0m \u001b[1m7s\u001b[0m 4ms/step - accuracy: 0.9134 - loss: 0.1902 - val_accuracy: 0.9080 - val_loss: 0.1951\n",
      "Epoch 17/50\n",
      "\u001b[1m1789/1789\u001b[0m \u001b[32m━━━━━━━━━━━━━━━━━━━━\u001b[0m\u001b[37m\u001b[0m \u001b[1m6s\u001b[0m 4ms/step - accuracy: 0.9172 - loss: 0.1858 - val_accuracy: 0.9159 - val_loss: 0.1869\n",
      "Epoch 18/50\n",
      "\u001b[1m1789/1789\u001b[0m \u001b[32m━━━━━━━━━━━━━━━━━━━━\u001b[0m\u001b[37m\u001b[0m \u001b[1m7s\u001b[0m 4ms/step - accuracy: 0.9165 - loss: 0.1863 - val_accuracy: 0.9138 - val_loss: 0.1886\n",
      "Epoch 19/50\n",
      "\u001b[1m1789/1789\u001b[0m \u001b[32m━━━━━━━━━━━━━━━━━━━━\u001b[0m\u001b[37m\u001b[0m \u001b[1m8s\u001b[0m 4ms/step - accuracy: 0.9167 - loss: 0.1856 - val_accuracy: 0.9115 - val_loss: 0.1884\n",
      "Epoch 20/50\n",
      "\u001b[1m1789/1789\u001b[0m \u001b[32m━━━━━━━━━━━━━━━━━━━━\u001b[0m\u001b[37m\u001b[0m \u001b[1m7s\u001b[0m 4ms/step - accuracy: 0.9180 - loss: 0.1831 - val_accuracy: 0.9195 - val_loss: 0.1835\n",
      "Epoch 21/50\n",
      "\u001b[1m1789/1789\u001b[0m \u001b[32m━━━━━━━━━━━━━━━━━━━━\u001b[0m\u001b[37m\u001b[0m \u001b[1m7s\u001b[0m 4ms/step - accuracy: 0.9178 - loss: 0.1813 - val_accuracy: 0.9173 - val_loss: 0.1829\n",
      "Epoch 22/50\n",
      "\u001b[1m1789/1789\u001b[0m \u001b[32m━━━━━━━━━━━━━━━━━━━━\u001b[0m\u001b[37m\u001b[0m \u001b[1m6s\u001b[0m 3ms/step - accuracy: 0.9184 - loss: 0.1831 - val_accuracy: 0.9166 - val_loss: 0.1858\n",
      "Epoch 23/50\n",
      "\u001b[1m1789/1789\u001b[0m \u001b[32m━━━━━━━━━━━━━━━━━━━━\u001b[0m\u001b[37m\u001b[0m \u001b[1m6s\u001b[0m 3ms/step - accuracy: 0.9194 - loss: 0.1798 - val_accuracy: 0.9199 - val_loss: 0.1814\n",
      "Epoch 24/50\n",
      "\u001b[1m1789/1789\u001b[0m \u001b[32m━━━━━━━━━━━━━━━━━━━━\u001b[0m\u001b[37m\u001b[0m \u001b[1m7s\u001b[0m 4ms/step - accuracy: 0.9192 - loss: 0.1798 - val_accuracy: 0.9202 - val_loss: 0.1822\n",
      "Epoch 25/50\n",
      "\u001b[1m1789/1789\u001b[0m \u001b[32m━━━━━━━━━━━━━━━━━━━━\u001b[0m\u001b[37m\u001b[0m \u001b[1m6s\u001b[0m 3ms/step - accuracy: 0.9208 - loss: 0.1786 - val_accuracy: 0.9195 - val_loss: 0.1826\n",
      "Epoch 26/50\n",
      "\u001b[1m1789/1789\u001b[0m \u001b[32m━━━━━━━━━━━━━━━━━━━━\u001b[0m\u001b[37m\u001b[0m \u001b[1m7s\u001b[0m 4ms/step - accuracy: 0.9185 - loss: 0.1813 - val_accuracy: 0.9194 - val_loss: 0.1814\n",
      "Epoch 27/50\n",
      "\u001b[1m1789/1789\u001b[0m \u001b[32m━━━━━━━━━━━━━━━━━━━━\u001b[0m\u001b[37m\u001b[0m \u001b[1m7s\u001b[0m 4ms/step - accuracy: 0.9208 - loss: 0.1776 - val_accuracy: 0.9184 - val_loss: 0.1793\n",
      "Epoch 28/50\n",
      "\u001b[1m1789/1789\u001b[0m \u001b[32m━━━━━━━━━━━━━━━━━━━━\u001b[0m\u001b[37m\u001b[0m \u001b[1m6s\u001b[0m 4ms/step - accuracy: 0.9170 - loss: 0.1804 - val_accuracy: 0.9195 - val_loss: 0.1805\n",
      "Epoch 29/50\n",
      "\u001b[1m1789/1789\u001b[0m \u001b[32m━━━━━━━━━━━━━━━━━━━━\u001b[0m\u001b[37m\u001b[0m \u001b[1m6s\u001b[0m 3ms/step - accuracy: 0.9196 - loss: 0.1774 - val_accuracy: 0.9164 - val_loss: 0.1815\n",
      "Epoch 30/50\n",
      "\u001b[1m1789/1789\u001b[0m \u001b[32m━━━━━━━━━━━━━━━━━━━━\u001b[0m\u001b[37m\u001b[0m \u001b[1m6s\u001b[0m 3ms/step - accuracy: 0.9232 - loss: 0.1735 - val_accuracy: 0.9180 - val_loss: 0.1794\n",
      "Epoch 31/50\n",
      "\u001b[1m1789/1789\u001b[0m \u001b[32m━━━━━━━━━━━━━━━━━━━━\u001b[0m\u001b[37m\u001b[0m \u001b[1m7s\u001b[0m 4ms/step - accuracy: 0.9200 - loss: 0.1765 - val_accuracy: 0.9182 - val_loss: 0.1799\n",
      "Epoch 32/50\n",
      "\u001b[1m1789/1789\u001b[0m \u001b[32m━━━━━━━━━━━━━━━━━━━━\u001b[0m\u001b[37m\u001b[0m \u001b[1m6s\u001b[0m 3ms/step - accuracy: 0.9201 - loss: 0.1784 - val_accuracy: 0.9198 - val_loss: 0.1780\n",
      "Epoch 33/50\n",
      "\u001b[1m1789/1789\u001b[0m \u001b[32m━━━━━━━━━━━━━━━━━━━━\u001b[0m\u001b[37m\u001b[0m \u001b[1m6s\u001b[0m 4ms/step - accuracy: 0.9216 - loss: 0.1739 - val_accuracy: 0.9191 - val_loss: 0.1781\n",
      "Epoch 34/50\n",
      "\u001b[1m1789/1789\u001b[0m \u001b[32m━━━━━━━━━━━━━━━━━━━━\u001b[0m\u001b[37m\u001b[0m \u001b[1m6s\u001b[0m 4ms/step - accuracy: 0.9184 - loss: 0.1759 - val_accuracy: 0.9226 - val_loss: 0.1774\n",
      "Epoch 35/50\n",
      "\u001b[1m1789/1789\u001b[0m \u001b[32m━━━━━━━━━━━━━━━━━━━━\u001b[0m\u001b[37m\u001b[0m \u001b[1m7s\u001b[0m 4ms/step - accuracy: 0.9190 - loss: 0.1756 - val_accuracy: 0.9227 - val_loss: 0.1791\n",
      "Epoch 36/50\n",
      "\u001b[1m1789/1789\u001b[0m \u001b[32m━━━━━━━━━━━━━━━━━━━━\u001b[0m\u001b[37m\u001b[0m \u001b[1m6s\u001b[0m 3ms/step - accuracy: 0.9204 - loss: 0.1764 - val_accuracy: 0.9154 - val_loss: 0.1839\n",
      "Epoch 37/50\n",
      "\u001b[1m1789/1789\u001b[0m \u001b[32m━━━━━━━━━━━━━━━━━━━━\u001b[0m\u001b[37m\u001b[0m \u001b[1m7s\u001b[0m 4ms/step - accuracy: 0.9221 - loss: 0.1731 - val_accuracy: 0.9229 - val_loss: 0.1760\n",
      "Epoch 38/50\n",
      "\u001b[1m1789/1789\u001b[0m \u001b[32m━━━━━━━━━━━━━━━━━━━━\u001b[0m\u001b[37m\u001b[0m \u001b[1m7s\u001b[0m 4ms/step - accuracy: 0.9192 - loss: 0.1783 - val_accuracy: 0.9224 - val_loss: 0.1760\n",
      "Epoch 39/50\n",
      "\u001b[1m1789/1789\u001b[0m \u001b[32m━━━━━━━━━━━━━━━━━━━━\u001b[0m\u001b[37m\u001b[0m \u001b[1m7s\u001b[0m 4ms/step - accuracy: 0.9231 - loss: 0.1699 - val_accuracy: 0.9216 - val_loss: 0.1803\n",
      "Epoch 40/50\n",
      "\u001b[1m1789/1789\u001b[0m \u001b[32m━━━━━━━━━━━━━━━━━━━━\u001b[0m\u001b[37m\u001b[0m \u001b[1m8s\u001b[0m 4ms/step - accuracy: 0.9233 - loss: 0.1743 - val_accuracy: 0.9215 - val_loss: 0.1748\n",
      "Epoch 41/50\n",
      "\u001b[1m1789/1789\u001b[0m \u001b[32m━━━━━━━━━━━━━━━━━━━━\u001b[0m\u001b[37m\u001b[0m \u001b[1m6s\u001b[0m 4ms/step - accuracy: 0.9209 - loss: 0.1754 - val_accuracy: 0.9208 - val_loss: 0.1780\n",
      "Epoch 42/50\n",
      "\u001b[1m1789/1789\u001b[0m \u001b[32m━━━━━━━━━━━━━━━━━━━━\u001b[0m\u001b[37m\u001b[0m \u001b[1m7s\u001b[0m 4ms/step - accuracy: 0.9235 - loss: 0.1729 - val_accuracy: 0.9191 - val_loss: 0.1779\n",
      "Epoch 43/50\n",
      "\u001b[1m1789/1789\u001b[0m \u001b[32m━━━━━━━━━━━━━━━━━━━━\u001b[0m\u001b[37m\u001b[0m \u001b[1m6s\u001b[0m 4ms/step - accuracy: 0.9218 - loss: 0.1730 - val_accuracy: 0.9217 - val_loss: 0.1771\n",
      "Epoch 44/50\n",
      "\u001b[1m1789/1789\u001b[0m \u001b[32m━━━━━━━━━━━━━━━━━━━━\u001b[0m\u001b[37m\u001b[0m \u001b[1m6s\u001b[0m 3ms/step - accuracy: 0.9230 - loss: 0.1712 - val_accuracy: 0.9238 - val_loss: 0.1761\n",
      "Epoch 45/50\n",
      "\u001b[1m1789/1789\u001b[0m \u001b[32m━━━━━━━━━━━━━━━━━━━━\u001b[0m\u001b[37m\u001b[0m \u001b[1m6s\u001b[0m 3ms/step - accuracy: 0.9220 - loss: 0.1725 - val_accuracy: 0.9187 - val_loss: 0.1787\n",
      "Epoch 46/50\n",
      "\u001b[1m1789/1789\u001b[0m \u001b[32m━━━━━━━━━━━━━━━━━━━━\u001b[0m\u001b[37m\u001b[0m \u001b[1m6s\u001b[0m 4ms/step - accuracy: 0.9250 - loss: 0.1700 - val_accuracy: 0.9245 - val_loss: 0.1770\n",
      "Epoch 47/50\n",
      "\u001b[1m1789/1789\u001b[0m \u001b[32m━━━━━━━━━━━━━━━━━━━━\u001b[0m\u001b[37m\u001b[0m \u001b[1m7s\u001b[0m 4ms/step - accuracy: 0.9221 - loss: 0.1741 - val_accuracy: 0.9229 - val_loss: 0.1751\n",
      "Epoch 48/50\n",
      "\u001b[1m1789/1789\u001b[0m \u001b[32m━━━━━━━━━━━━━━━━━━━━\u001b[0m\u001b[37m\u001b[0m \u001b[1m6s\u001b[0m 3ms/step - accuracy: 0.9209 - loss: 0.1735 - val_accuracy: 0.9201 - val_loss: 0.1775\n",
      "Epoch 49/50\n",
      "\u001b[1m1789/1789\u001b[0m \u001b[32m━━━━━━━━━━━━━━━━━━━━\u001b[0m\u001b[37m\u001b[0m \u001b[1m7s\u001b[0m 4ms/step - accuracy: 0.9249 - loss: 0.1687 - val_accuracy: 0.9224 - val_loss: 0.1778\n",
      "Epoch 50/50\n",
      "\u001b[1m1789/1789\u001b[0m \u001b[32m━━━━━━━━━━━━━━━━━━━━\u001b[0m\u001b[37m\u001b[0m \u001b[1m6s\u001b[0m 4ms/step - accuracy: 0.9221 - loss: 0.1721 - val_accuracy: 0.9212 - val_loss: 0.1767\n"
     ]
    }
   ],
   "source": [
    "history = model.fit(X_train, y_train, epochs=50, batch_size=16, validation_split=0.2)"
   ]
  },
  {
   "cell_type": "code",
   "execution_count": 27,
   "id": "101c69a7-eeee-4cc4-b630-0d22b7691991",
   "metadata": {},
   "outputs": [
    {
     "name": "stdout",
     "output_type": "stream",
     "text": [
      "\u001b[1m280/280\u001b[0m \u001b[32m━━━━━━━━━━━━━━━━━━━━\u001b[0m\u001b[37m\u001b[0m \u001b[1m1s\u001b[0m 3ms/step - accuracy: 0.9159 - loss: 0.1850\n",
      "Test Loss: 0.185066819190979\n",
      "Test Accuracy: 0.9156882762908936\n"
     ]
    }
   ],
   "source": [
    "loss, accuracy = model.evaluate(X_test, y_test)\n",
    "print(f'Test Loss: {loss}')\n",
    "print(f'Test Accuracy: {accuracy}')"
   ]
  },
  {
   "cell_type": "code",
   "execution_count": 28,
   "id": "6e552d48-0bf6-4056-ba6c-b0d5036a9844",
   "metadata": {},
   "outputs": [
    {
     "name": "stdout",
     "output_type": "stream",
     "text": [
      "\u001b[1m280/280\u001b[0m \u001b[32m━━━━━━━━━━━━━━━━━━━━\u001b[0m\u001b[37m\u001b[0m \u001b[1m1s\u001b[0m 3ms/step\n",
      "       Actual  Predicted\n",
      "4739        0          0\n",
      "9416        0          0\n",
      "17309       0          0\n",
      "4826        0          0\n",
      "8917        0          0\n",
      "...       ...        ...\n",
      "12173       1          1\n",
      "18830       0          0\n",
      "2130        0          0\n",
      "36356       0          0\n",
      "4981        0          0\n",
      "\n",
      "[8943 rows x 2 columns]\n"
     ]
    }
   ],
   "source": [
    "predictions = model.predict(X_test)\n",
    "# Convert probabilities to binary (1 or 0)\n",
    "predictions = (predictions > 0.5).astype(int)\n",
    "\n",
    "# If you want to see the predictions alongside actual values\n",
    "results = pd.DataFrame({'Actual': y_test, 'Predicted': predictions.flatten()})\n",
    "print(results)"
   ]
  },
  {
   "cell_type": "code",
   "execution_count": 29,
   "id": "bded137e-4dc8-4140-abd4-62abf4b93e5d",
   "metadata": {},
   "outputs": [
    {
     "name": "stdout",
     "output_type": "stream",
     "text": [
      "              precision    recall  f1-score   support\n",
      "\n",
      "           0       0.93      0.96      0.95      6962\n",
      "           1       0.85      0.76      0.80      1981\n",
      "\n",
      "    accuracy                           0.92      8943\n",
      "   macro avg       0.89      0.86      0.87      8943\n",
      "weighted avg       0.91      0.92      0.91      8943\n",
      "\n"
     ]
    }
   ],
   "source": [
    "from sklearn.metrics import confusion_matrix,classification_report\n",
    "print(classification_report(y_test,predictions,))"
   ]
  },
  {
   "cell_type": "code",
   "execution_count": 30,
   "id": "14acb310-0336-4082-b8c1-1d2048b12325",
   "metadata": {},
   "outputs": [
    {
     "name": "stdout",
     "output_type": "stream",
     "text": [
      "[[6687  275]\n",
      " [ 479 1502]]\n"
     ]
    }
   ],
   "source": [
    "cm = confusion_matrix(y_test, predictions)\n",
    "print(cm)"
   ]
  },
  {
   "cell_type": "code",
   "execution_count": 31,
   "id": "bc081a6e-e070-4786-826c-fb8cbd0516cc",
   "metadata": {},
   "outputs": [
    {
     "data": {
      "image/png": "[encoded data removed]",
      "text/plain": [
       "<Figure size 800x600 with 1 Axes>"
      ]
     },
     "metadata": {},
     "output_type": "display_data"
    }
   ],
   "source": [
    "\n",
    "\n",
    "# Create a heatmap for the confusion matrix\n",
    "plt.figure(figsize=(8, 6))\n",
    "sns.heatmap(cm, annot=True, fmt='d', cmap='Blues', cbar=False,\n",
    "            xticklabels=['Not Approved (0)', 'Approved (1)'],\n",
    "            yticklabels=['Not Approved (0)', 'Approved (1)'])\n",
    "\n",
    "plt.title('Confusion Matrix')\n",
    "plt.xlabel('Predicted')\n",
    "plt.ylabel('Actual')\n",
    "plt.show()"
   ]
  },
  {
   "cell_type": "code",
   "execution_count": 32,
   "id": "9237b9c0-16e7-4fb3-a597-2bfe1ecb0dbe",
   "metadata": {},
   "outputs": [
    {
     "data": {
      "image/png": "[encoded data removed]",
      "text/plain": [
       "<Figure size 1000x600 with 1 Axes>"
      ]
     },
     "metadata": {},
     "output_type": "display_data"
    }
   ],
   "source": [
    "import seaborn as sns\n",
    "import matplotlib.pyplot as plt\n",
    "\n",
    "# Assuming 'loan_approved' is your target variable (0 or 1)\n",
    "# df is your DataFrame containing all relevant features\n",
    "\n",
    "# Compute the correlation matrix\n",
    "correlation_matrix = df.corr()\n",
    "\n",
    "# Get the correlation of each feature with the loan approval status\n",
    "loan_approval_corr = correlation_matrix['loan_status'].sort_values(ascending=False)\n",
    "\n",
    "# Visualize the correlation\n",
    "plt.figure(figsize=(10, 6))\n",
    "sns.barplot(x=loan_approval_corr.index, y=loan_approval_corr.values)\n",
    "plt.title('Correlation of Features with Loan Approval Status')\n",
    "plt.xticks(rotation=90)\n",
    "plt.ylabel('Correlation Coefficient')\n",
    "plt.show()\n"
   ]
  },
  {
   "cell_type": "code",
   "execution_count": null,
   "id": "c41265dd-c8c6-4c13-b339-e0222f5d012a",
   "metadata": {},
   "outputs": [],
   "source": []
  }
 ],
 "metadata": {
  "kernelspec": {
   "display_name": "Python 3 (ipykernel)",
   "language": "python",
   "name": "python3"
  },
  "language_info": {
   "codemirror_mode": {
    "name": "ipython",
    "version": 3
   },
   "file_extension": ".py",
   "mimetype": "text/x-python",
   "name": "python",
   "nbconvert_exporter": "python",
   "pygments_lexer": "ipython3",
   "version": "3.12.4"
  }
 },
 "nbformat": 4,
 "nbformat_minor": 5
}
